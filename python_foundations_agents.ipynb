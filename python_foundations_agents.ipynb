{
 "cells": [
  {
   "cell_type": "markdown",
   "metadata": {},
   "source": [
    "# Python Foundations for Agents\n",
    "\n",
    *[
      "In this notebook you’ll learn how to structure *agent-style* code in Python: states, actions, environments, senses, and control loops.\n",
      "You won’t need any external APIs or heavy libs — just Python. Later we’ll build on this foundation to add learning, reasoning, and LLMs.\n",
      "\n",
      \"---\",\n",
      "\n",
      \"## 1. Agent / Environment Interface\",\n",
      \"Define basic skeletons for an agent and environment, to interact in a loop.\",\n"
    ]
   ]
  },
  {
   "cell_type": "code",
   "execution_count": null,
   "metadata": {},
   "outputs": [],
   "source": [
    "from abc import ABC, abstractmethod\n",
    "\n",
    "class Environment(ABC):\n",
    "    @abstractmethod\n",
    "    def reset(self):\n",
    "        \"\"\"Reset environment. Return initial state.\"\"\"\n",
    "        pass\n",
    "\n",
    "    @abstractmethod\n",
    "    def step(self, action):\n",
    "        \"\"\"Apply action, return (next_state, reward, done, info)\"\"\"\n",
    "        pass\n",
    "\n",
    "class Agent(ABC):\n",
    "    @abstractmethod\n",
    "    def act(self, state):\n",
    "        \"\"\"Given a state, choose an action.\"\"\"\n",
    "        pass\n",
    "\n",
    "    def observe(self, state, action, reward, next_state, done):\n",
    "        \"\"\"Optional: agent can learn from outcome.\"\"\"\n",
    "        pass\n",
    "\n",
    "def run_episode(env: Environment, agent: Agent, max_steps=100):\n",
    "    state = env.reset()\n",
    "    total_reward = 0.0\n",
    "    for step in range(max_steps):\n",
    "        action = agent.act(state)\n",
    "        next_state, reward, done, info = env.step(action)\n",
    "        agent.observe(state, action, reward, next_state, done)\n",
    "        state = next_state\n",
    "        total_reward += reward\n",
    "        if done:\n",
    "            break\n",
    "    return total_reward\n",
    "\n",
    "# Test skeleton with a dummy environment and agent\n",
    "class DummyEnv(Environment):\n",
    "    def __init__(self):\n",
    "        self.counter = 0\n",
    "    def reset(self):\n        self.counter = 0\n        return self.counter\n",
    "    def step(self, action):\n        self.counter += 1\n        reward = 1.0\n        done = (self.counter >= 5)\n        return self.counter, reward, done, {}\n",
    "\n",
    "class RandomAgent(Agent):\n",
    "    def act(self, state):\n        # action is either 0 or 1 arbitrarily\n        import random\n        return random.choice([0, 1])\n",
    "\n",
    "env = DummyEnv()\n",
    "agent = RandomAgent()\n",
    "print(run_episode(env, agent))"
   ]
  },
  {
   "cell_type": "markdown",
   "metadata": {},
   "source": [
    \"---\",\n",
    \"## 2. Representing State & Actions\",\n",
    \"Let’s make a simple *grid world* environment: the agent is in a 2D grid and can move up/down/left/right.\"\n"
   ]
  },
  {
   "cell_type": "code",
   "execution_count": null,
   "metadata": {},
   "outputs": [],
   "source": [
    "class GridEnv(Environment):\n",
    "    def __init__(self, width, height, start, goal):\n",
    "        self.width = width\n",
    "        self.height = height\n",
    "        self.start = start\n",
    "        self.goal = goal\n        \n",
    "    def reset(self):\n        self.agent_pos = tuple(self.start)\n        return self.agent_pos\n",
    "\n",
    "    def step(self, action):\n        # action is one of: 'up', 'down', 'left', 'right'\n        x, y = self.agent_pos\n",
    "        if action == 'up':\n",
    "            y = min(self.height - 1, y + 1)\n",
    "        elif action == 'down':\n",
    "            y = max(0, y - 1)\n",
    "        elif action == 'left':\n",
    "            x = max(0, x - 1)\n",
    "        elif action == 'right':\n",
    "            x = min(self.width - 1, x + 1)\n",
    "        else:\n",
    "            raise ValueError('Unknown action')\n",
    "\n",
    "        self.agent_pos = (x, y)\n",
    "        reward = -0.1  # small negative per step to encourage shorter paths\n",
    "        done = False\n        \n",
    "        if self.agent_pos == self.goal:\n",
    "            reward = 1.0\n",
    "            done = True\n",
    "\n",
    "        return self.agent_pos, reward, done, {}\n",
    "\n",
    "class GreedyAgent(Agent):\n",
    "    def __init__(self, goal):\n",
    "        self.goal = goal\n",
    "\n",
    "    def act(self, state):\n        x, y = state\n",
    "        gx, gy = self.goal\n",
    "        # move greedily toward goal\n",
    "        if gx > x:\n            return 'right'\n        if gx < x:\n            return 'left'\n        if gy > y:\n            return 'up'\n        if gy < y:\n            return 'down'\n        return 'up'  # fallback\n",
    "\n",
    "# Try grid env\n",
    "env = GridEnv(width=5, height=5, start=(0, 0), goal=(4, 4))\n",
    "agent = GreedyAgent(goal=(4, 4))\n",
    "reward = run_episode(env, agent, max_steps=50)\n",
    "print('Total reward:', reward)"
   ]
  },
  {
   "cell_type": "markdown",
   "metadata": {},
   "source": [
    \"---\",\n",
    \"## 3. Exercise: Random Walk + Heuristic Agent\",\n",
    \"**Task:** Implement an agent that sometimes takes random steps, sometimes greedy. Then try different heuristics (e.g. Manhattan) and see how performance changes.\",\n"
   ],
  {
   "cell_type": "code",
   "execution_count": null,
   "metadata": {},
   "outputs": [],
   "source": [
    "# TODO: your implementation here\n",
    "import random\n",
    "\n",
    "class EpsilonGreedyAgent(Agent):\n",
    "    def __init__(self, goal, epsilon=0.2):\n",
    "        self.goal = goal\n        self.epsilon = epsilon\n",
    "\n",
    "    def act(self, state):\n        if random.random() < self.epsilon:\n            return random.choice(['up', 'down', 'left', 'right'])\n        # otherwise greedily move to reduce manhattan distance\n        x, y = state\n        gx, gy = self.goal\n        dx = gx - x\n        dy = gy - y\n        if abs(dx) > abs(dy):\n            return 'right' if dx > 0 else 'left'\n        else:\n            return 'up' if dy > 0 else 'down'\n\n",
    "env = GridEnv(width=5, height=5, start=(0,0), goal=(4,4))\n",
    "agent = EpsilonGreedyAgent(goal=(4,4), epsilon=0.3)\n",
    "print(run_episode(env, agent, max_steps=50))"
   ]
  },
  {
   "cell_type": "markdown",
   "metadata": {},
   "source": [
    \"---\",\n",
    \"## 4. Wrapping Up & Next Steps\",\n",
    \"In future notebooks, we’ll incorporate:\n",
    \"- A full search/planning module (BFS, A*, heuristics)\n",
    \"- Learning agents (Q-learning, deep RL)\n",
    \"- And later LLM-based agents that plan and act using language\n",
    "\n",
    \"Let me know when you're ready, and I’ll generate Notebook 2!\"\n"
   ]
  }
 ],
 "metadata": {
  "kernelspec": {
   "display_name": "Python 3",
   "language": "python",
   "name": "python3"
  },
  "language_info": {
   "name": "python",
   "version": "3.x"
  }
 },
 "nbformat": 4,
 "nbformat_minor": 5
}


